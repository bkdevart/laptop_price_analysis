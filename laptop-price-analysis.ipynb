{
 "cells": [
  {
   "cell_type": "code",
   "execution_count": 1,
   "id": "4d121ed2",
   "metadata": {
    "_cell_guid": "b1076dfc-b9ad-4769-8c92-a6c4dae69d19",
    "_uuid": "8f2839f25d086af736a60e9eeb907d3b93b6e0e5",
    "execution": {
     "iopub.execute_input": "2023-12-29T15:23:31.477399Z",
     "iopub.status.busy": "2023-12-29T15:23:31.476983Z",
     "iopub.status.idle": "2023-12-29T15:23:31.895648Z",
     "shell.execute_reply": "2023-12-29T15:23:31.894060Z"
    },
    "papermill": {
     "duration": 0.428853,
     "end_time": "2023-12-29T15:23:31.898144",
     "exception": false,
     "start_time": "2023-12-29T15:23:31.469291",
     "status": "completed"
    },
    "tags": []
   },
   "outputs": [
    {
     "name": "stdout",
     "output_type": "stream",
     "text": [
      "/kaggle/input/laptop-price-explorer-the-ml-model/laptops.csv\n"
     ]
    }
   ],
   "source": [
    "# This Python 3 environment comes with many helpful analytics libraries installed\n",
    "# It is defined by the kaggle/python Docker image: https://github.com/kaggle/docker-python\n",
    "# For example, here's several helpful packages to load\n",
    "\n",
    "import numpy as np # linear algebra\n",
    "import pandas as pd # data processing, CSV file I/O (e.g. pd.read_csv)\n",
    "\n",
    "# Input data files are available in the read-only \"../input/\" directory\n",
    "# For example, running this (by clicking run or pressing Shift+Enter) will list all files under the input directory\n",
    "\n",
    "import os\n",
    "for dirname, _, filenames in os.walk('/kaggle/input'):\n",
    "    for filename in filenames:\n",
    "        print(os.path.join(dirname, filename))\n",
    "\n",
    "# You can write up to 20GB to the current directory (/kaggle/working/) that gets preserved as output when you create a version using \"Save & Run All\" \n",
    "# You can also write temporary files to /kaggle/temp/, but they won't be saved outside of the current session"
   ]
  },
  {
   "cell_type": "code",
   "execution_count": 2,
   "id": "c396ab32",
   "metadata": {
    "execution": {
     "iopub.execute_input": "2023-12-29T15:23:31.909670Z",
     "iopub.status.busy": "2023-12-29T15:23:31.909159Z",
     "iopub.status.idle": "2023-12-29T15:23:31.962595Z",
     "shell.execute_reply": "2023-12-29T15:23:31.961546Z"
    },
    "papermill": {
     "duration": 0.061925,
     "end_time": "2023-12-29T15:23:31.964976",
     "exception": false,
     "start_time": "2023-12-29T15:23:31.903051",
     "status": "completed"
    },
    "tags": []
   },
   "outputs": [
    {
     "data": {
      "text/html": [
       "<div>\n",
       "<style scoped>\n",
       "    .dataframe tbody tr th:only-of-type {\n",
       "        vertical-align: middle;\n",
       "    }\n",
       "\n",
       "    .dataframe tbody tr th {\n",
       "        vertical-align: top;\n",
       "    }\n",
       "\n",
       "    .dataframe thead th {\n",
       "        text-align: right;\n",
       "    }\n",
       "</style>\n",
       "<table border=\"1\" class=\"dataframe\">\n",
       "  <thead>\n",
       "    <tr style=\"text-align: right;\">\n",
       "      <th></th>\n",
       "      <th>companyname</th>\n",
       "      <th>typeoflaptop</th>\n",
       "      <th>inches</th>\n",
       "      <th>screenresolution</th>\n",
       "      <th>cpu</th>\n",
       "      <th>ram</th>\n",
       "      <th>memory</th>\n",
       "      <th>gpu</th>\n",
       "      <th>opsys</th>\n",
       "      <th>weight</th>\n",
       "      <th>price</th>\n",
       "    </tr>\n",
       "  </thead>\n",
       "  <tbody>\n",
       "    <tr>\n",
       "      <th>0</th>\n",
       "      <td>MSI</td>\n",
       "      <td>Business Laptop</td>\n",
       "      <td>17.040680</td>\n",
       "      <td>IPS Panel Retina Display 2560x1600</td>\n",
       "      <td>Intel Core i7</td>\n",
       "      <td>12GB</td>\n",
       "      <td>512GB SSD</td>\n",
       "      <td>Intel Iris Xe Graphics</td>\n",
       "      <td>Linux</td>\n",
       "      <td>2.064834</td>\n",
       "      <td>35844.099371</td>\n",
       "    </tr>\n",
       "    <tr>\n",
       "      <th>1</th>\n",
       "      <td>Chuwi</td>\n",
       "      <td>2 in 1 Convertible</td>\n",
       "      <td>16.542395</td>\n",
       "      <td>Full HD</td>\n",
       "      <td>Intel Core i5</td>\n",
       "      <td>12GB</td>\n",
       "      <td>128GB PCIe SSD</td>\n",
       "      <td>Intel Iris Xe Graphics</td>\n",
       "      <td>No OS</td>\n",
       "      <td>4.060656</td>\n",
       "      <td>37019.059051</td>\n",
       "    </tr>\n",
       "    <tr>\n",
       "      <th>2</th>\n",
       "      <td>hp</td>\n",
       "      <td>WorkStation</td>\n",
       "      <td>17.295294</td>\n",
       "      <td>Full HD</td>\n",
       "      <td>Intel Xeon E3-1505M</td>\n",
       "      <td>8GB</td>\n",
       "      <td>1TB HDD</td>\n",
       "      <td>Intel Iris Xe Graphics</td>\n",
       "      <td>Linux</td>\n",
       "      <td>2.901689</td>\n",
       "      <td>33329.360341</td>\n",
       "    </tr>\n",
       "    <tr>\n",
       "      <th>3</th>\n",
       "      <td>MSI</td>\n",
       "      <td>2 in 1 Convertible</td>\n",
       "      <td>11.526203</td>\n",
       "      <td>2K</td>\n",
       "      <td>Intel Core i7</td>\n",
       "      <td>16GB</td>\n",
       "      <td>512GB NVMe SSD</td>\n",
       "      <td>Intel Iris Xe Graphics</td>\n",
       "      <td>Windows 10</td>\n",
       "      <td>2.914843</td>\n",
       "      <td>68631.102486</td>\n",
       "    </tr>\n",
       "    <tr>\n",
       "      <th>4</th>\n",
       "      <td>Microsoft</td>\n",
       "      <td>Gaming</td>\n",
       "      <td>12.649634</td>\n",
       "      <td>Full HD</td>\n",
       "      <td>Intel Core i5</td>\n",
       "      <td>8GB</td>\n",
       "      <td>512GB SSD</td>\n",
       "      <td>AMD Radeon RX 5600M</td>\n",
       "      <td>Windows 10</td>\n",
       "      <td>4.341995</td>\n",
       "      <td>33842.479566</td>\n",
       "    </tr>\n",
       "  </tbody>\n",
       "</table>\n",
       "</div>"
      ],
      "text/plain": [
       "  companyname        typeoflaptop     inches  \\\n",
       "0         MSI     Business Laptop  17.040680   \n",
       "1       Chuwi  2 in 1 Convertible  16.542395   \n",
       "2          hp         WorkStation  17.295294   \n",
       "3         MSI  2 in 1 Convertible  11.526203   \n",
       "4   Microsoft              Gaming  12.649634   \n",
       "\n",
       "                     screenresolution                   cpu   ram  \\\n",
       "0  IPS Panel Retina Display 2560x1600         Intel Core i7  12GB   \n",
       "1                             Full HD         Intel Core i5  12GB   \n",
       "2                             Full HD  Intel Xeon E3-1505M    8GB   \n",
       "3                                  2K         Intel Core i7  16GB   \n",
       "4                             Full HD         Intel Core i5   8GB   \n",
       "\n",
       "           memory                     gpu       opsys    weight         price  \n",
       "0       512GB SSD  Intel Iris Xe Graphics       Linux  2.064834  35844.099371  \n",
       "1  128GB PCIe SSD  Intel Iris Xe Graphics       No OS  4.060656  37019.059051  \n",
       "2         1TB HDD  Intel Iris Xe Graphics       Linux  2.901689  33329.360341  \n",
       "3  512GB NVMe SSD  Intel Iris Xe Graphics  Windows 10  2.914843  68631.102486  \n",
       "4       512GB SSD     AMD Radeon RX 5600M  Windows 10  4.341995  33842.479566  "
      ]
     },
     "execution_count": 2,
     "metadata": {},
     "output_type": "execute_result"
    }
   ],
   "source": [
    "df = pd.read_csv('/kaggle/input/laptop-price-explorer-the-ml-model/laptops.csv')\n",
    "# lowercase col names\n",
    "df.columns = [col.lower() for col in df.columns]\n",
    "df.head()"
   ]
  },
  {
   "cell_type": "code",
   "execution_count": 3,
   "id": "41c55b01",
   "metadata": {
    "execution": {
     "iopub.execute_input": "2023-12-29T15:23:31.976573Z",
     "iopub.status.busy": "2023-12-29T15:23:31.976224Z",
     "iopub.status.idle": "2023-12-29T15:23:32.002328Z",
     "shell.execute_reply": "2023-12-29T15:23:32.001467Z"
    },
    "papermill": {
     "duration": 0.034699,
     "end_time": "2023-12-29T15:23:32.004605",
     "exception": false,
     "start_time": "2023-12-29T15:23:31.969906",
     "status": "completed"
    },
    "tags": []
   },
   "outputs": [
    {
     "name": "stdout",
     "output_type": "stream",
     "text": [
      "<class 'pandas.core.frame.DataFrame'>\n",
      "RangeIndex: 1000 entries, 0 to 999\n",
      "Data columns (total 11 columns):\n",
      " #   Column            Non-Null Count  Dtype  \n",
      "---  ------            --------------  -----  \n",
      " 0   companyname       1000 non-null   object \n",
      " 1   typeoflaptop      1000 non-null   object \n",
      " 2   inches            1000 non-null   float64\n",
      " 3   screenresolution  1000 non-null   object \n",
      " 4   cpu               1000 non-null   object \n",
      " 5   ram               1000 non-null   object \n",
      " 6   memory            1000 non-null   object \n",
      " 7   gpu               1000 non-null   object \n",
      " 8   opsys             1000 non-null   object \n",
      " 9   weight            1000 non-null   float64\n",
      " 10  price             1000 non-null   float64\n",
      "dtypes: float64(3), object(8)\n",
      "memory usage: 86.1+ KB\n"
     ]
    }
   ],
   "source": [
    "df.info()"
   ]
  },
  {
   "cell_type": "markdown",
   "id": "6ff5804d",
   "metadata": {
    "papermill": {
     "duration": 0.004791,
     "end_time": "2023-12-29T15:23:32.014745",
     "exception": false,
     "start_time": "2023-12-29T15:23:32.009954",
     "status": "completed"
    },
    "tags": []
   },
   "source": [
    "# Initial data notes\n",
    "## Column changes\n",
    "- ~Change ram column name to include GB and make numerical~\n",
    "- ~Break apart memory into:~\n",
    "    - ~numerical size (some are GB, some TB)~\n",
    "    - ~SSD/HDD~\n",
    "    - ~(optional) additional info - PCIe, NVMe, etc~\n",
    "- ~GPU/CPU columns~\n",
    "    - ~Extract make, model into separate columns~\n",
    "- ~Screen resolution~\n",
    "    - ~try to convert to pixel height/width columns or combined resolution if few variations~\n",
    "- Find out how many CompanyName/TypOfLaptop unique values there are"
   ]
  },
  {
   "cell_type": "code",
   "execution_count": 4,
   "id": "5d93f237",
   "metadata": {
    "execution": {
     "iopub.execute_input": "2023-12-29T15:23:32.027672Z",
     "iopub.status.busy": "2023-12-29T15:23:32.026733Z",
     "iopub.status.idle": "2023-12-29T15:23:32.035409Z",
     "shell.execute_reply": "2023-12-29T15:23:32.034208Z"
    },
    "papermill": {
     "duration": 0.018103,
     "end_time": "2023-12-29T15:23:32.037736",
     "exception": false,
     "start_time": "2023-12-29T15:23:32.019633",
     "status": "completed"
    },
    "tags": []
   },
   "outputs": [
    {
     "data": {
      "text/plain": [
       "0     12GB\n",
       "2      8GB\n",
       "3     16GB\n",
       "11     4GB\n",
       "Name: ram, dtype: object"
      ]
     },
     "execution_count": 4,
     "metadata": {},
     "output_type": "execute_result"
    }
   ],
   "source": [
    "# break apart memory column\n",
    "df['ram'].drop_duplicates()"
   ]
  },
  {
   "cell_type": "code",
   "execution_count": 5,
   "id": "782a21cd",
   "metadata": {
    "execution": {
     "iopub.execute_input": "2023-12-29T15:23:32.050266Z",
     "iopub.status.busy": "2023-12-29T15:23:32.049828Z",
     "iopub.status.idle": "2023-12-29T15:23:32.070460Z",
     "shell.execute_reply": "2023-12-29T15:23:32.069296Z"
    },
    "papermill": {
     "duration": 0.030309,
     "end_time": "2023-12-29T15:23:32.073451",
     "exception": false,
     "start_time": "2023-12-29T15:23:32.043142",
     "status": "completed"
    },
    "tags": []
   },
   "outputs": [
    {
     "data": {
      "text/plain": [
       "0     12\n",
       "2      8\n",
       "3     16\n",
       "11     4\n",
       "Name: ram_gb, dtype: int64"
      ]
     },
     "execution_count": 5,
     "metadata": {},
     "output_type": "execute_result"
    }
   ],
   "source": [
    "df['ram_gb'] = df['ram'].str.extract('(\\d+)').astype(int)\n",
    "df = df.drop('ram', axis=1)\n",
    "df['ram_gb'].drop_duplicates()"
   ]
  },
  {
   "cell_type": "code",
   "execution_count": 6,
   "id": "2afa9b64",
   "metadata": {
    "execution": {
     "iopub.execute_input": "2023-12-29T15:23:32.087281Z",
     "iopub.status.busy": "2023-12-29T15:23:32.086912Z",
     "iopub.status.idle": "2023-12-29T15:23:32.096088Z",
     "shell.execute_reply": "2023-12-29T15:23:32.094952Z"
    },
    "papermill": {
     "duration": 0.018651,
     "end_time": "2023-12-29T15:23:32.098212",
     "exception": false,
     "start_time": "2023-12-29T15:23:32.079561",
     "status": "completed"
    },
    "tags": []
   },
   "outputs": [
    {
     "data": {
      "text/plain": [
       "0         512GB SSD\n",
       "1    128GB PCIe SSD\n",
       "2           1TB HDD\n",
       "3    512GB NVMe SSD\n",
       "4         512GB SSD\n",
       "Name: memory, dtype: object"
      ]
     },
     "execution_count": 6,
     "metadata": {},
     "output_type": "execute_result"
    }
   ],
   "source": [
    "# break apart memory into numerical size - 1st extract numerical, 2nd if numerical 1, calculate GB\n",
    "df['memory'].head()"
   ]
  },
  {
   "cell_type": "code",
   "execution_count": 7,
   "id": "25b3500e",
   "metadata": {
    "execution": {
     "iopub.execute_input": "2023-12-29T15:23:32.110590Z",
     "iopub.status.busy": "2023-12-29T15:23:32.110194Z",
     "iopub.status.idle": "2023-12-29T15:23:32.119666Z",
     "shell.execute_reply": "2023-12-29T15:23:32.118539Z"
    },
    "papermill": {
     "duration": 0.018235,
     "end_time": "2023-12-29T15:23:32.121836",
     "exception": false,
     "start_time": "2023-12-29T15:23:32.103601",
     "status": "completed"
    },
    "tags": []
   },
   "outputs": [],
   "source": [
    "df['storage_gb'] = df['memory'].str.extract('(\\d+)').astype(int)\n",
    "df.loc[df['storage_gb'] == 1, 'storage_gb'] = 1000"
   ]
  },
  {
   "cell_type": "code",
   "execution_count": 8,
   "id": "620302ba",
   "metadata": {
    "execution": {
     "iopub.execute_input": "2023-12-29T15:23:32.134335Z",
     "iopub.status.busy": "2023-12-29T15:23:32.133654Z",
     "iopub.status.idle": "2023-12-29T15:23:32.142429Z",
     "shell.execute_reply": "2023-12-29T15:23:32.141294Z"
    },
    "papermill": {
     "duration": 0.017277,
     "end_time": "2023-12-29T15:23:32.144419",
     "exception": false,
     "start_time": "2023-12-29T15:23:32.127142",
     "status": "completed"
    },
    "tags": []
   },
   "outputs": [],
   "source": [
    "# take last 3 chars and put into hdd_type col\n",
    "df['storage_type'] = df['memory'].str.extract('(\\w+$)')"
   ]
  },
  {
   "cell_type": "code",
   "execution_count": 9,
   "id": "e4e30388",
   "metadata": {
    "execution": {
     "iopub.execute_input": "2023-12-29T15:23:32.156641Z",
     "iopub.status.busy": "2023-12-29T15:23:32.156269Z",
     "iopub.status.idle": "2023-12-29T15:23:32.166815Z",
     "shell.execute_reply": "2023-12-29T15:23:32.165647Z"
    },
    "papermill": {
     "duration": 0.01906,
     "end_time": "2023-12-29T15:23:32.168878",
     "exception": false,
     "start_time": "2023-12-29T15:23:32.149818",
     "status": "completed"
    },
    "tags": []
   },
   "outputs": [],
   "source": [
    "# extract PCIe and NVMe info\n",
    "df.loc[df['memory'].str.contains('PCIe'), 'storage_controller'] = 'PCIe'\n",
    "df.loc[df['memory'].str.contains('NVMe'), 'storage_controller'] = 'NVMe'\n",
    "df = df.drop('memory', axis=1)"
   ]
  },
  {
   "cell_type": "code",
   "execution_count": 10,
   "id": "a6404f0a",
   "metadata": {
    "execution": {
     "iopub.execute_input": "2023-12-29T15:23:32.181636Z",
     "iopub.status.busy": "2023-12-29T15:23:32.181284Z",
     "iopub.status.idle": "2023-12-29T15:23:32.188971Z",
     "shell.execute_reply": "2023-12-29T15:23:32.187891Z"
    },
    "papermill": {
     "duration": 0.017006,
     "end_time": "2023-12-29T15:23:32.191233",
     "exception": false,
     "start_time": "2023-12-29T15:23:32.174227",
     "status": "completed"
    },
    "tags": []
   },
   "outputs": [
    {
     "data": {
      "text/plain": [
       "0     Intel Iris Xe Graphics\n",
       "4        AMD Radeon RX 5600M\n",
       "5    NVIDIA GeForce GTX 1650\n",
       "Name: gpu, dtype: object"
      ]
     },
     "execution_count": 10,
     "metadata": {},
     "output_type": "execute_result"
    }
   ],
   "source": [
    "# GPU - Extract make, model into separate columns\n",
    "df['gpu'].drop_duplicates()"
   ]
  },
  {
   "cell_type": "code",
   "execution_count": 11,
   "id": "22971036",
   "metadata": {
    "execution": {
     "iopub.execute_input": "2023-12-29T15:23:32.203666Z",
     "iopub.status.busy": "2023-12-29T15:23:32.203293Z",
     "iopub.status.idle": "2023-12-29T15:23:32.211581Z",
     "shell.execute_reply": "2023-12-29T15:23:32.210766Z"
    },
    "papermill": {
     "duration": 0.016989,
     "end_time": "2023-12-29T15:23:32.213683",
     "exception": false,
     "start_time": "2023-12-29T15:23:32.196694",
     "status": "completed"
    },
    "tags": []
   },
   "outputs": [],
   "source": [
    "df[['gpu_make', 'gpu_model']] = df['gpu'].str.split(\" \", n=1, expand=True)"
   ]
  },
  {
   "cell_type": "code",
   "execution_count": 12,
   "id": "ee9544a8",
   "metadata": {
    "execution": {
     "iopub.execute_input": "2023-12-29T15:23:32.226823Z",
     "iopub.status.busy": "2023-12-29T15:23:32.225776Z",
     "iopub.status.idle": "2023-12-29T15:23:32.234610Z",
     "shell.execute_reply": "2023-12-29T15:23:32.233536Z"
    },
    "papermill": {
     "duration": 0.017832,
     "end_time": "2023-12-29T15:23:32.236942",
     "exception": false,
     "start_time": "2023-12-29T15:23:32.219110",
     "status": "completed"
    },
    "tags": []
   },
   "outputs": [
    {
     "data": {
      "text/plain": [
       "0            IPS Panel Retina Display 2560x1600\n",
       "1                                       Full HD\n",
       "3                                            2K\n",
       "5                                 HD 1920x1080 \n",
       "7     IPS Panel Full HD / Touchscreen 1920x1080\n",
       "16                                           4K\n",
       "Name: screenresolution, dtype: object"
      ]
     },
     "execution_count": 12,
     "metadata": {},
     "output_type": "execute_result"
    }
   ],
   "source": [
    "df['screenresolution'].drop_duplicates()"
   ]
  },
  {
   "cell_type": "markdown",
   "id": "0c0dbcc1",
   "metadata": {
    "papermill": {
     "duration": 0.005173,
     "end_time": "2023-12-29T15:23:32.247676",
     "exception": false,
     "start_time": "2023-12-29T15:23:32.242503",
     "status": "completed"
    },
    "tags": []
   },
   "source": [
    "# resolution notes\n",
    "- 2K = 2048×1080\n",
    "- Full HD = 1920x1080\n",
    "- 4K = 4096×2160"
   ]
  },
  {
   "cell_type": "code",
   "execution_count": 13,
   "id": "6d3be4e7",
   "metadata": {
    "execution": {
     "iopub.execute_input": "2023-12-29T15:23:32.260491Z",
     "iopub.status.busy": "2023-12-29T15:23:32.260093Z",
     "iopub.status.idle": "2023-12-29T15:23:32.279797Z",
     "shell.execute_reply": "2023-12-29T15:23:32.278710Z"
    },
    "papermill": {
     "duration": 0.02906,
     "end_time": "2023-12-29T15:23:32.282147",
     "exception": false,
     "start_time": "2023-12-29T15:23:32.253087",
     "status": "completed"
    },
    "tags": []
   },
   "outputs": [],
   "source": [
    "# create resolution dictionary for mapping values to columns\n",
    "hd_resolution = {\n",
    "    'IPS Panel Retina Display 2560x1600': [2560, 1600],\n",
    "    'Full HD': [1920, 1080],\n",
    "    '2K': [2048, 1080],\n",
    "    'HD 1920x1080 ': [1920, 1080],\n",
    "    'IPS Panel Full HD / Touchscreen 1920x1080': [1920, 1080],\n",
    "    '4K': [4096, 2160]\n",
    "}\n",
    "\n",
    "# map values to new columns\n",
    "df['screen_resolution'] = df['screenresolution'].map(hd_resolution)\n",
    "df[['h_screen_resolution', 'v_screen_resolution']] = list(df['screen_resolution'])\n",
    "\n",
    "# add in IPS info\n",
    "ips_true_false = {\n",
    "    'IPS Panel Retina Display 2560x1600': True,\n",
    "    'Full HD': False,\n",
    "    '2K': False,\n",
    "    'HD 1920x1080 ': False,\n",
    "    'IPS Panel Full HD / Touchscreen 1920x1080': True,\n",
    "    '4K': False\n",
    "}\n",
    "df['ips'] = df['screenresolution'].map(ips_true_false)\n",
    "\n",
    "# TODO: add in touchscreen info\n",
    "touchscreen_true_false = {\n",
    "    'IPS Panel Retina Display 2560x1600': False,\n",
    "    'Full HD': False,\n",
    "    '2K': False,\n",
    "    'HD 1920x1080 ': False,\n",
    "    'IPS Panel Full HD / Touchscreen 1920x1080': True,\n",
    "    '4K': False\n",
    "}\n",
    "df['touchscreen'] = df['screenresolution'].map(touchscreen_true_false)\n",
    "\n",
    "# drop columns\n",
    "df = df.drop(['screen_resolution'], axis=1)\n",
    "df = df.drop(['screenresolution'], axis=1)"
   ]
  },
  {
   "cell_type": "code",
   "execution_count": 14,
   "id": "d59d5724",
   "metadata": {
    "execution": {
     "iopub.execute_input": "2023-12-29T15:23:32.294989Z",
     "iopub.status.busy": "2023-12-29T15:23:32.294620Z",
     "iopub.status.idle": "2023-12-29T15:23:32.313029Z",
     "shell.execute_reply": "2023-12-29T15:23:32.312138Z"
    },
    "papermill": {
     "duration": 0.027323,
     "end_time": "2023-12-29T15:23:32.314951",
     "exception": false,
     "start_time": "2023-12-29T15:23:32.287628",
     "status": "completed"
    },
    "tags": []
   },
   "outputs": [
    {
     "data": {
      "text/html": [
       "<div>\n",
       "<style scoped>\n",
       "    .dataframe tbody tr th:only-of-type {\n",
       "        vertical-align: middle;\n",
       "    }\n",
       "\n",
       "    .dataframe tbody tr th {\n",
       "        vertical-align: top;\n",
       "    }\n",
       "\n",
       "    .dataframe thead th {\n",
       "        text-align: right;\n",
       "    }\n",
       "</style>\n",
       "<table border=\"1\" class=\"dataframe\">\n",
       "  <thead>\n",
       "    <tr style=\"text-align: right;\">\n",
       "      <th></th>\n",
       "      <th>companyname</th>\n",
       "      <th>typeoflaptop</th>\n",
       "      <th>inches</th>\n",
       "      <th>cpu</th>\n",
       "      <th>gpu</th>\n",
       "      <th>opsys</th>\n",
       "      <th>weight</th>\n",
       "      <th>price</th>\n",
       "      <th>ram_gb</th>\n",
       "      <th>storage_gb</th>\n",
       "      <th>storage_type</th>\n",
       "      <th>storage_controller</th>\n",
       "      <th>gpu_make</th>\n",
       "      <th>gpu_model</th>\n",
       "      <th>h_screen_resolution</th>\n",
       "      <th>v_screen_resolution</th>\n",
       "      <th>ips</th>\n",
       "      <th>touchscreen</th>\n",
       "    </tr>\n",
       "  </thead>\n",
       "  <tbody>\n",
       "    <tr>\n",
       "      <th>0</th>\n",
       "      <td>MSI</td>\n",
       "      <td>Business Laptop</td>\n",
       "      <td>17.040680</td>\n",
       "      <td>Intel Core i7</td>\n",
       "      <td>Intel Iris Xe Graphics</td>\n",
       "      <td>Linux</td>\n",
       "      <td>2.064834</td>\n",
       "      <td>35844.099371</td>\n",
       "      <td>12</td>\n",
       "      <td>512</td>\n",
       "      <td>SSD</td>\n",
       "      <td>NaN</td>\n",
       "      <td>Intel</td>\n",
       "      <td>Iris Xe Graphics</td>\n",
       "      <td>2560</td>\n",
       "      <td>1600</td>\n",
       "      <td>True</td>\n",
       "      <td>False</td>\n",
       "    </tr>\n",
       "    <tr>\n",
       "      <th>1</th>\n",
       "      <td>Chuwi</td>\n",
       "      <td>2 in 1 Convertible</td>\n",
       "      <td>16.542395</td>\n",
       "      <td>Intel Core i5</td>\n",
       "      <td>Intel Iris Xe Graphics</td>\n",
       "      <td>No OS</td>\n",
       "      <td>4.060656</td>\n",
       "      <td>37019.059051</td>\n",
       "      <td>12</td>\n",
       "      <td>128</td>\n",
       "      <td>SSD</td>\n",
       "      <td>PCIe</td>\n",
       "      <td>Intel</td>\n",
       "      <td>Iris Xe Graphics</td>\n",
       "      <td>1920</td>\n",
       "      <td>1080</td>\n",
       "      <td>False</td>\n",
       "      <td>False</td>\n",
       "    </tr>\n",
       "    <tr>\n",
       "      <th>2</th>\n",
       "      <td>hp</td>\n",
       "      <td>WorkStation</td>\n",
       "      <td>17.295294</td>\n",
       "      <td>Intel Xeon E3-1505M</td>\n",
       "      <td>Intel Iris Xe Graphics</td>\n",
       "      <td>Linux</td>\n",
       "      <td>2.901689</td>\n",
       "      <td>33329.360341</td>\n",
       "      <td>8</td>\n",
       "      <td>1000</td>\n",
       "      <td>HDD</td>\n",
       "      <td>NaN</td>\n",
       "      <td>Intel</td>\n",
       "      <td>Iris Xe Graphics</td>\n",
       "      <td>1920</td>\n",
       "      <td>1080</td>\n",
       "      <td>False</td>\n",
       "      <td>False</td>\n",
       "    </tr>\n",
       "    <tr>\n",
       "      <th>3</th>\n",
       "      <td>MSI</td>\n",
       "      <td>2 in 1 Convertible</td>\n",
       "      <td>11.526203</td>\n",
       "      <td>Intel Core i7</td>\n",
       "      <td>Intel Iris Xe Graphics</td>\n",
       "      <td>Windows 10</td>\n",
       "      <td>2.914843</td>\n",
       "      <td>68631.102486</td>\n",
       "      <td>16</td>\n",
       "      <td>512</td>\n",
       "      <td>SSD</td>\n",
       "      <td>NVMe</td>\n",
       "      <td>Intel</td>\n",
       "      <td>Iris Xe Graphics</td>\n",
       "      <td>2048</td>\n",
       "      <td>1080</td>\n",
       "      <td>False</td>\n",
       "      <td>False</td>\n",
       "    </tr>\n",
       "    <tr>\n",
       "      <th>4</th>\n",
       "      <td>Microsoft</td>\n",
       "      <td>Gaming</td>\n",
       "      <td>12.649634</td>\n",
       "      <td>Intel Core i5</td>\n",
       "      <td>AMD Radeon RX 5600M</td>\n",
       "      <td>Windows 10</td>\n",
       "      <td>4.341995</td>\n",
       "      <td>33842.479566</td>\n",
       "      <td>8</td>\n",
       "      <td>512</td>\n",
       "      <td>SSD</td>\n",
       "      <td>NaN</td>\n",
       "      <td>AMD</td>\n",
       "      <td>Radeon RX 5600M</td>\n",
       "      <td>1920</td>\n",
       "      <td>1080</td>\n",
       "      <td>False</td>\n",
       "      <td>False</td>\n",
       "    </tr>\n",
       "  </tbody>\n",
       "</table>\n",
       "</div>"
      ],
      "text/plain": [
       "  companyname        typeoflaptop     inches                   cpu  \\\n",
       "0         MSI     Business Laptop  17.040680         Intel Core i7   \n",
       "1       Chuwi  2 in 1 Convertible  16.542395         Intel Core i5   \n",
       "2          hp         WorkStation  17.295294  Intel Xeon E3-1505M    \n",
       "3         MSI  2 in 1 Convertible  11.526203         Intel Core i7   \n",
       "4   Microsoft              Gaming  12.649634         Intel Core i5   \n",
       "\n",
       "                      gpu       opsys    weight         price  ram_gb  \\\n",
       "0  Intel Iris Xe Graphics       Linux  2.064834  35844.099371      12   \n",
       "1  Intel Iris Xe Graphics       No OS  4.060656  37019.059051      12   \n",
       "2  Intel Iris Xe Graphics       Linux  2.901689  33329.360341       8   \n",
       "3  Intel Iris Xe Graphics  Windows 10  2.914843  68631.102486      16   \n",
       "4     AMD Radeon RX 5600M  Windows 10  4.341995  33842.479566       8   \n",
       "\n",
       "   storage_gb storage_type storage_controller gpu_make         gpu_model  \\\n",
       "0         512          SSD                NaN    Intel  Iris Xe Graphics   \n",
       "1         128          SSD               PCIe    Intel  Iris Xe Graphics   \n",
       "2        1000          HDD                NaN    Intel  Iris Xe Graphics   \n",
       "3         512          SSD               NVMe    Intel  Iris Xe Graphics   \n",
       "4         512          SSD                NaN      AMD   Radeon RX 5600M   \n",
       "\n",
       "   h_screen_resolution  v_screen_resolution    ips  touchscreen  \n",
       "0                 2560                 1600   True        False  \n",
       "1                 1920                 1080  False        False  \n",
       "2                 1920                 1080  False        False  \n",
       "3                 2048                 1080  False        False  \n",
       "4                 1920                 1080  False        False  "
      ]
     },
     "execution_count": 14,
     "metadata": {},
     "output_type": "execute_result"
    }
   ],
   "source": [
    "df.head()"
   ]
  },
  {
   "cell_type": "code",
   "execution_count": null,
   "id": "56770d76",
   "metadata": {
    "papermill": {
     "duration": 0.00551,
     "end_time": "2023-12-29T15:23:32.326320",
     "exception": false,
     "start_time": "2023-12-29T15:23:32.320810",
     "status": "completed"
    },
    "tags": []
   },
   "outputs": [],
   "source": []
  }
 ],
 "metadata": {
  "kaggle": {
   "accelerator": "none",
   "dataSources": [
    {
     "datasetId": 4151218,
     "sourceId": 7181846,
     "sourceType": "datasetVersion"
    }
   ],
   "dockerImageVersionId": 30626,
   "isGpuEnabled": false,
   "isInternetEnabled": true,
   "language": "python",
   "sourceType": "notebook"
  },
  "kernelspec": {
   "display_name": "Python 3",
   "language": "python",
   "name": "python3"
  },
  "language_info": {
   "codemirror_mode": {
    "name": "ipython",
    "version": 3
   },
   "file_extension": ".py",
   "mimetype": "text/x-python",
   "name": "python",
   "nbconvert_exporter": "python",
   "pygments_lexer": "ipython3",
   "version": "3.10.12"
  },
  "papermill": {
   "default_parameters": {},
   "duration": 4.638579,
   "end_time": "2023-12-29T15:23:32.853873",
   "environment_variables": {},
   "exception": null,
   "input_path": "__notebook__.ipynb",
   "output_path": "__notebook__.ipynb",
   "parameters": {},
   "start_time": "2023-12-29T15:23:28.215294",
   "version": "2.4.0"
  }
 },
 "nbformat": 4,
 "nbformat_minor": 5
}
