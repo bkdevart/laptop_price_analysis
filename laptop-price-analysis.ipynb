{
 "cells": [
  {
   "cell_type": "code",
   "execution_count": 1,
   "id": "b1d7de82",
   "metadata": {
    "_cell_guid": "b1076dfc-b9ad-4769-8c92-a6c4dae69d19",
    "_uuid": "8f2839f25d086af736a60e9eeb907d3b93b6e0e5",
    "execution": {
     "iopub.execute_input": "2023-12-29T16:18:44.131976Z",
     "iopub.status.busy": "2023-12-29T16:18:44.131593Z",
     "iopub.status.idle": "2023-12-29T16:18:44.529078Z",
     "shell.execute_reply": "2023-12-29T16:18:44.527455Z"
    },
    "papermill": {
     "duration": 0.407786,
     "end_time": "2023-12-29T16:18:44.531620",
     "exception": false,
     "start_time": "2023-12-29T16:18:44.123834",
     "status": "completed"
    },
    "tags": []
   },
   "outputs": [
    {
     "name": "stdout",
     "output_type": "stream",
     "text": [
      "/kaggle/input/laptop-price-explorer-the-ml-model/laptops.csv\n"
     ]
    }
   ],
   "source": [
    "# This Python 3 environment comes with many helpful analytics libraries installed\n",
    "# It is defined by the kaggle/python Docker image: https://github.com/kaggle/docker-python\n",
    "# For example, here's several helpful packages to load\n",
    "\n",
    "import numpy as np # linear algebra\n",
    "import pandas as pd # data processing, CSV file I/O (e.g. pd.read_csv)\n",
    "\n",
    "# Input data files are available in the read-only \"../input/\" directory\n",
    "# For example, running this (by clicking run or pressing Shift+Enter) will list all files under the input directory\n",
    "\n",
    "import os\n",
    "for dirname, _, filenames in os.walk('/kaggle/input'):\n",
    "    for filename in filenames:\n",
    "        print(os.path.join(dirname, filename))\n",
    "\n",
    "# You can write up to 20GB to the current directory (/kaggle/working/) that gets preserved as output when you create a version using \"Save & Run All\" \n",
    "# You can also write temporary files to /kaggle/temp/, but they won't be saved outside of the current session"
   ]
  },
  {
   "cell_type": "code",
   "execution_count": 2,
   "id": "1bec0a69",
   "metadata": {
    "execution": {
     "iopub.execute_input": "2023-12-29T16:18:44.544701Z",
     "iopub.status.busy": "2023-12-29T16:18:44.544220Z",
     "iopub.status.idle": "2023-12-29T16:18:44.590331Z",
     "shell.execute_reply": "2023-12-29T16:18:44.589110Z"
    },
    "papermill": {
     "duration": 0.055179,
     "end_time": "2023-12-29T16:18:44.592571",
     "exception": false,
     "start_time": "2023-12-29T16:18:44.537392",
     "status": "completed"
    },
    "tags": []
   },
   "outputs": [
    {
     "data": {
      "text/html": [
       "<div>\n",
       "<style scoped>\n",
       "    .dataframe tbody tr th:only-of-type {\n",
       "        vertical-align: middle;\n",
       "    }\n",
       "\n",
       "    .dataframe tbody tr th {\n",
       "        vertical-align: top;\n",
       "    }\n",
       "\n",
       "    .dataframe thead th {\n",
       "        text-align: right;\n",
       "    }\n",
       "</style>\n",
       "<table border=\"1\" class=\"dataframe\">\n",
       "  <thead>\n",
       "    <tr style=\"text-align: right;\">\n",
       "      <th></th>\n",
       "      <th>companyname</th>\n",
       "      <th>typeoflaptop</th>\n",
       "      <th>inches</th>\n",
       "      <th>screenresolution</th>\n",
       "      <th>cpu</th>\n",
       "      <th>ram</th>\n",
       "      <th>memory</th>\n",
       "      <th>gpu</th>\n",
       "      <th>opsys</th>\n",
       "      <th>weight</th>\n",
       "      <th>price</th>\n",
       "    </tr>\n",
       "  </thead>\n",
       "  <tbody>\n",
       "    <tr>\n",
       "      <th>0</th>\n",
       "      <td>MSI</td>\n",
       "      <td>Business Laptop</td>\n",
       "      <td>17.040680</td>\n",
       "      <td>IPS Panel Retina Display 2560x1600</td>\n",
       "      <td>Intel Core i7</td>\n",
       "      <td>12GB</td>\n",
       "      <td>512GB SSD</td>\n",
       "      <td>Intel Iris Xe Graphics</td>\n",
       "      <td>Linux</td>\n",
       "      <td>2.064834</td>\n",
       "      <td>35844.099371</td>\n",
       "    </tr>\n",
       "    <tr>\n",
       "      <th>1</th>\n",
       "      <td>Chuwi</td>\n",
       "      <td>2 in 1 Convertible</td>\n",
       "      <td>16.542395</td>\n",
       "      <td>Full HD</td>\n",
       "      <td>Intel Core i5</td>\n",
       "      <td>12GB</td>\n",
       "      <td>128GB PCIe SSD</td>\n",
       "      <td>Intel Iris Xe Graphics</td>\n",
       "      <td>No OS</td>\n",
       "      <td>4.060656</td>\n",
       "      <td>37019.059051</td>\n",
       "    </tr>\n",
       "    <tr>\n",
       "      <th>2</th>\n",
       "      <td>hp</td>\n",
       "      <td>WorkStation</td>\n",
       "      <td>17.295294</td>\n",
       "      <td>Full HD</td>\n",
       "      <td>Intel Xeon E3-1505M</td>\n",
       "      <td>8GB</td>\n",
       "      <td>1TB HDD</td>\n",
       "      <td>Intel Iris Xe Graphics</td>\n",
       "      <td>Linux</td>\n",
       "      <td>2.901689</td>\n",
       "      <td>33329.360341</td>\n",
       "    </tr>\n",
       "    <tr>\n",
       "      <th>3</th>\n",
       "      <td>MSI</td>\n",
       "      <td>2 in 1 Convertible</td>\n",
       "      <td>11.526203</td>\n",
       "      <td>2K</td>\n",
       "      <td>Intel Core i7</td>\n",
       "      <td>16GB</td>\n",
       "      <td>512GB NVMe SSD</td>\n",
       "      <td>Intel Iris Xe Graphics</td>\n",
       "      <td>Windows 10</td>\n",
       "      <td>2.914843</td>\n",
       "      <td>68631.102486</td>\n",
       "    </tr>\n",
       "    <tr>\n",
       "      <th>4</th>\n",
       "      <td>Microsoft</td>\n",
       "      <td>Gaming</td>\n",
       "      <td>12.649634</td>\n",
       "      <td>Full HD</td>\n",
       "      <td>Intel Core i5</td>\n",
       "      <td>8GB</td>\n",
       "      <td>512GB SSD</td>\n",
       "      <td>AMD Radeon RX 5600M</td>\n",
       "      <td>Windows 10</td>\n",
       "      <td>4.341995</td>\n",
       "      <td>33842.479566</td>\n",
       "    </tr>\n",
       "  </tbody>\n",
       "</table>\n",
       "</div>"
      ],
      "text/plain": [
       "  companyname        typeoflaptop     inches  \\\n",
       "0         MSI     Business Laptop  17.040680   \n",
       "1       Chuwi  2 in 1 Convertible  16.542395   \n",
       "2          hp         WorkStation  17.295294   \n",
       "3         MSI  2 in 1 Convertible  11.526203   \n",
       "4   Microsoft              Gaming  12.649634   \n",
       "\n",
       "                     screenresolution                   cpu   ram  \\\n",
       "0  IPS Panel Retina Display 2560x1600         Intel Core i7  12GB   \n",
       "1                             Full HD         Intel Core i5  12GB   \n",
       "2                             Full HD  Intel Xeon E3-1505M    8GB   \n",
       "3                                  2K         Intel Core i7  16GB   \n",
       "4                             Full HD         Intel Core i5   8GB   \n",
       "\n",
       "           memory                     gpu       opsys    weight         price  \n",
       "0       512GB SSD  Intel Iris Xe Graphics       Linux  2.064834  35844.099371  \n",
       "1  128GB PCIe SSD  Intel Iris Xe Graphics       No OS  4.060656  37019.059051  \n",
       "2         1TB HDD  Intel Iris Xe Graphics       Linux  2.901689  33329.360341  \n",
       "3  512GB NVMe SSD  Intel Iris Xe Graphics  Windows 10  2.914843  68631.102486  \n",
       "4       512GB SSD     AMD Radeon RX 5600M  Windows 10  4.341995  33842.479566  "
      ]
     },
     "execution_count": 2,
     "metadata": {},
     "output_type": "execute_result"
    }
   ],
   "source": [
    "df = pd.read_csv('/kaggle/input/laptop-price-explorer-the-ml-model/laptops.csv')\n",
    "# lowercase col names\n",
    "df.columns = [col.lower() for col in df.columns]\n",
    "df.head()"
   ]
  },
  {
   "cell_type": "code",
   "execution_count": 3,
   "id": "1b12acd3",
   "metadata": {
    "execution": {
     "iopub.execute_input": "2023-12-29T16:18:44.606533Z",
     "iopub.status.busy": "2023-12-29T16:18:44.606175Z",
     "iopub.status.idle": "2023-12-29T16:18:44.633100Z",
     "shell.execute_reply": "2023-12-29T16:18:44.632070Z"
    },
    "papermill": {
     "duration": 0.037407,
     "end_time": "2023-12-29T16:18:44.636194",
     "exception": false,
     "start_time": "2023-12-29T16:18:44.598787",
     "status": "completed"
    },
    "tags": []
   },
   "outputs": [
    {
     "name": "stdout",
     "output_type": "stream",
     "text": [
      "<class 'pandas.core.frame.DataFrame'>\n",
      "RangeIndex: 1000 entries, 0 to 999\n",
      "Data columns (total 11 columns):\n",
      " #   Column            Non-Null Count  Dtype  \n",
      "---  ------            --------------  -----  \n",
      " 0   companyname       1000 non-null   object \n",
      " 1   typeoflaptop      1000 non-null   object \n",
      " 2   inches            1000 non-null   float64\n",
      " 3   screenresolution  1000 non-null   object \n",
      " 4   cpu               1000 non-null   object \n",
      " 5   ram               1000 non-null   object \n",
      " 6   memory            1000 non-null   object \n",
      " 7   gpu               1000 non-null   object \n",
      " 8   opsys             1000 non-null   object \n",
      " 9   weight            1000 non-null   float64\n",
      " 10  price             1000 non-null   float64\n",
      "dtypes: float64(3), object(8)\n",
      "memory usage: 86.1+ KB\n"
     ]
    }
   ],
   "source": [
    "df.info()"
   ]
  },
  {
   "cell_type": "markdown",
   "id": "381e9dcd",
   "metadata": {
    "papermill": {
     "duration": 0.005908,
     "end_time": "2023-12-29T16:18:44.648145",
     "exception": false,
     "start_time": "2023-12-29T16:18:44.642237",
     "status": "completed"
    },
    "tags": []
   },
   "source": [
    "# Initial data notes\n",
    "## Column changes\n",
    "- ~Change ram column name to include GB and make numerical~\n",
    "- Break apart memory into:\n",
    "    - ~numerical size (some are GB, some TB)~\n",
    "    - ~SSD/HDD~\n",
    "    - ~(optional) additional info - PCIe, NVMe, etc~\n",
    "    - ~check all memory cases are being handled correctly~\n",
    "- GPU/CPU columns\n",
    "    - Extract make, model into separate columns\n",
    "        - ~GPU~\n",
    "        - CPU\n",
    "- ~Screen resolution~\n",
    "    - ~try to convert to pixel height/width columns or combined resolution if few variations~\n",
    "- Find out how many CompanyName/TypOfLaptop unique values there are"
   ]
  },
  {
   "cell_type": "code",
   "execution_count": 4,
   "id": "02c5115e",
   "metadata": {
    "execution": {
     "iopub.execute_input": "2023-12-29T16:18:44.662015Z",
     "iopub.status.busy": "2023-12-29T16:18:44.661658Z",
     "iopub.status.idle": "2023-12-29T16:18:44.669569Z",
     "shell.execute_reply": "2023-12-29T16:18:44.668576Z"
    },
    "papermill": {
     "duration": 0.017384,
     "end_time": "2023-12-29T16:18:44.671605",
     "exception": false,
     "start_time": "2023-12-29T16:18:44.654221",
     "status": "completed"
    },
    "tags": []
   },
   "outputs": [
    {
     "data": {
      "text/plain": [
       "ram\n",
       "8GB     270\n",
       "12GB    247\n",
       "4GB     243\n",
       "16GB    240\n",
       "Name: count, dtype: int64"
      ]
     },
     "execution_count": 4,
     "metadata": {},
     "output_type": "execute_result"
    }
   ],
   "source": [
    "# break apart memory column\n",
    "df['ram'].value_counts()"
   ]
  },
  {
   "cell_type": "code",
   "execution_count": 5,
   "id": "d7a03188",
   "metadata": {
    "execution": {
     "iopub.execute_input": "2023-12-29T16:18:44.685318Z",
     "iopub.status.busy": "2023-12-29T16:18:44.684943Z",
     "iopub.status.idle": "2023-12-29T16:18:44.701098Z",
     "shell.execute_reply": "2023-12-29T16:18:44.699947Z"
    },
    "papermill": {
     "duration": 0.025737,
     "end_time": "2023-12-29T16:18:44.703299",
     "exception": false,
     "start_time": "2023-12-29T16:18:44.677562",
     "status": "completed"
    },
    "tags": []
   },
   "outputs": [
    {
     "data": {
      "text/plain": [
       "ram_gb\n",
       "8     270\n",
       "12    247\n",
       "4     243\n",
       "16    240\n",
       "Name: count, dtype: int64"
      ]
     },
     "execution_count": 5,
     "metadata": {},
     "output_type": "execute_result"
    }
   ],
   "source": [
    "df['ram_gb'] = df['ram'].str.extract('(\\d+)').astype(int)\n",
    "df = df.drop('ram', axis=1)\n",
    "df['ram_gb'].value_counts()"
   ]
  },
  {
   "cell_type": "code",
   "execution_count": 6,
   "id": "482b6b15",
   "metadata": {
    "execution": {
     "iopub.execute_input": "2023-12-29T16:18:44.717401Z",
     "iopub.status.busy": "2023-12-29T16:18:44.717024Z",
     "iopub.status.idle": "2023-12-29T16:18:44.724658Z",
     "shell.execute_reply": "2023-12-29T16:18:44.723673Z"
    },
    "papermill": {
     "duration": 0.017219,
     "end_time": "2023-12-29T16:18:44.726749",
     "exception": false,
     "start_time": "2023-12-29T16:18:44.709530",
     "status": "completed"
    },
    "tags": []
   },
   "outputs": [
    {
     "data": {
      "text/plain": [
       "memory\n",
       "1TB HDD                105\n",
       "2TB SATA SSD            63\n",
       "1TB SSHD                61\n",
       "4TB HDD                 60\n",
       "512GB eMMC              59\n",
       "128GB PCIe SSD          58\n",
       "1TB NVMe SSD            55\n",
       "256GB PCIe SSD          55\n",
       "512GB NVMe SSD          54\n",
       "512GB SSD               51\n",
       "256GB SSD               50\n",
       "2TB HDD                 50\n",
       "1TB Fusion Drive        50\n",
       "2TB NVMe SSD            49\n",
       "256GB Flash Storage     46\n",
       "6TB HDD                 45\n",
       "256GB eMMC              45\n",
       "128GB SSD               44\n",
       "Name: count, dtype: int64"
      ]
     },
     "execution_count": 6,
     "metadata": {},
     "output_type": "execute_result"
    }
   ],
   "source": [
    "# break apart memory into numerical size - 1st extract numerical, 2nd if numerical 1, calculate GB\n",
    "df['memory'].value_counts()"
   ]
  },
  {
   "cell_type": "code",
   "execution_count": 7,
   "id": "b2e65d8f",
   "metadata": {
    "execution": {
     "iopub.execute_input": "2023-12-29T16:18:44.741091Z",
     "iopub.status.busy": "2023-12-29T16:18:44.740360Z",
     "iopub.status.idle": "2023-12-29T16:18:44.745076Z",
     "shell.execute_reply": "2023-12-29T16:18:44.743976Z"
    },
    "papermill": {
     "duration": 0.014318,
     "end_time": "2023-12-29T16:18:44.747222",
     "exception": false,
     "start_time": "2023-12-29T16:18:44.732904",
     "status": "completed"
    },
    "tags": []
   },
   "outputs": [],
   "source": [
    "# TODO: make sure to handle all cases below"
   ]
  },
  {
   "cell_type": "code",
   "execution_count": 8,
   "id": "9a8b8db4",
   "metadata": {
    "execution": {
     "iopub.execute_input": "2023-12-29T16:18:44.761415Z",
     "iopub.status.busy": "2023-12-29T16:18:44.761017Z",
     "iopub.status.idle": "2023-12-29T16:18:44.774513Z",
     "shell.execute_reply": "2023-12-29T16:18:44.773370Z"
    },
    "papermill": {
     "duration": 0.023224,
     "end_time": "2023-12-29T16:18:44.776670",
     "exception": false,
     "start_time": "2023-12-29T16:18:44.753446",
     "status": "completed"
    },
    "tags": []
   },
   "outputs": [
    {
     "data": {
      "text/plain": [
       "storage_gb\n",
       "1000    271\n",
       "256     196\n",
       "512     164\n",
       "2000    162\n",
       "128     102\n",
       "4000     60\n",
       "6000     45\n",
       "Name: count, dtype: int64"
      ]
     },
     "execution_count": 8,
     "metadata": {},
     "output_type": "execute_result"
    }
   ],
   "source": [
    "df['storage_gb'] = df['memory'].str.extract('(\\d+)').astype(int)\n",
    "df.loc[df['storage_gb'] < 7, 'storage_gb'] = df['storage_gb'] * 1000\n",
    "df['storage_gb'].value_counts()"
   ]
  },
  {
   "cell_type": "code",
   "execution_count": 9,
   "id": "673e5a21",
   "metadata": {
    "execution": {
     "iopub.execute_input": "2023-12-29T16:18:44.791115Z",
     "iopub.status.busy": "2023-12-29T16:18:44.790536Z",
     "iopub.status.idle": "2023-12-29T16:18:44.802717Z",
     "shell.execute_reply": "2023-12-29T16:18:44.801684Z"
    },
    "papermill": {
     "duration": 0.021814,
     "end_time": "2023-12-29T16:18:44.804742",
     "exception": false,
     "start_time": "2023-12-29T16:18:44.782928",
     "status": "completed"
    },
    "tags": []
   },
   "outputs": [
    {
     "data": {
      "text/plain": [
       "storage_type\n",
       "SSD        479\n",
       "HDD        260\n",
       "eMMC       104\n",
       "SSHD        61\n",
       "Drive       50\n",
       "Storage     46\n",
       "Name: count, dtype: int64"
      ]
     },
     "execution_count": 9,
     "metadata": {},
     "output_type": "execute_result"
    }
   ],
   "source": [
    "# take last 3 chars and put into hdd_type col\n",
    "df['storage_type'] = df['memory'].str.extract('(\\w+$)')\n",
    "df['storage_type'].value_counts()"
   ]
  },
  {
   "cell_type": "code",
   "execution_count": 10,
   "id": "da9d77d4",
   "metadata": {
    "execution": {
     "iopub.execute_input": "2023-12-29T16:18:44.819143Z",
     "iopub.status.busy": "2023-12-29T16:18:44.818764Z",
     "iopub.status.idle": "2023-12-29T16:18:44.830273Z",
     "shell.execute_reply": "2023-12-29T16:18:44.829209Z"
    },
    "papermill": {
     "duration": 0.021561,
     "end_time": "2023-12-29T16:18:44.832605",
     "exception": false,
     "start_time": "2023-12-29T16:18:44.811044",
     "status": "completed"
    },
    "tags": []
   },
   "outputs": [
    {
     "data": {
      "text/plain": [
       "storage_type\n",
       "SSD              479\n",
       "HDD              260\n",
       "eMMC             104\n",
       "SSHD              61\n",
       "Fusion Drive      50\n",
       "Flash Storage     46\n",
       "Name: count, dtype: int64"
      ]
     },
     "execution_count": 10,
     "metadata": {},
     "output_type": "execute_result"
    }
   ],
   "source": [
    "# Fusion Drive and Flash Storage need to be updated\n",
    "# fusion drive = apple's combo of hdd & sdd.  map Drive to Fusion Drive\n",
    "df['storage_type'] = df['storage_type'] .str.replace('Drive', 'Fusion Drive')\n",
    "# while flash storage and ssd are often the same, keep separate as flash-based drives could be more expensive\n",
    "df['storage_type'] = df['storage_type'] .str.replace('Storage', 'Flash Storage')\n",
    "df['storage_type'].value_counts()"
   ]
  },
  {
   "cell_type": "code",
   "execution_count": 11,
   "id": "6956c4a8",
   "metadata": {
    "execution": {
     "iopub.execute_input": "2023-12-29T16:18:44.847674Z",
     "iopub.status.busy": "2023-12-29T16:18:44.847311Z",
     "iopub.status.idle": "2023-12-29T16:18:44.857118Z",
     "shell.execute_reply": "2023-12-29T16:18:44.856085Z"
    },
    "papermill": {
     "duration": 0.019694,
     "end_time": "2023-12-29T16:18:44.859137",
     "exception": false,
     "start_time": "2023-12-29T16:18:44.839443",
     "status": "completed"
    },
    "tags": []
   },
   "outputs": [],
   "source": [
    "# extract PCIe and NVMe info\n",
    "df.loc[df['memory'].str.contains('PCIe'), 'storage_controller'] = 'PCIe'\n",
    "df.loc[df['memory'].str.contains('NVMe'), 'storage_controller'] = 'NVMe'\n",
    "df = df.drop('memory', axis=1)"
   ]
  },
  {
   "cell_type": "code",
   "execution_count": 12,
   "id": "579cac3c",
   "metadata": {
    "execution": {
     "iopub.execute_input": "2023-12-29T16:18:44.873899Z",
     "iopub.status.busy": "2023-12-29T16:18:44.873552Z",
     "iopub.status.idle": "2023-12-29T16:18:44.881560Z",
     "shell.execute_reply": "2023-12-29T16:18:44.880537Z"
    },
    "papermill": {
     "duration": 0.01798,
     "end_time": "2023-12-29T16:18:44.883732",
     "exception": false,
     "start_time": "2023-12-29T16:18:44.865752",
     "status": "completed"
    },
    "tags": []
   },
   "outputs": [
    {
     "data": {
      "text/plain": [
       "gpu\n",
       "NVIDIA GeForce GTX 1650    348\n",
       "AMD Radeon RX 5600M        339\n",
       "Intel Iris Xe Graphics     313\n",
       "Name: count, dtype: int64"
      ]
     },
     "execution_count": 12,
     "metadata": {},
     "output_type": "execute_result"
    }
   ],
   "source": [
    "# GPU - Extract make, model into separate columns\n",
    "df['gpu'].value_counts()"
   ]
  },
  {
   "cell_type": "code",
   "execution_count": 13,
   "id": "e4bbce51",
   "metadata": {
    "execution": {
     "iopub.execute_input": "2023-12-29T16:18:44.899871Z",
     "iopub.status.busy": "2023-12-29T16:18:44.898981Z",
     "iopub.status.idle": "2023-12-29T16:18:44.908923Z",
     "shell.execute_reply": "2023-12-29T16:18:44.907898Z"
    },
    "papermill": {
     "duration": 0.020313,
     "end_time": "2023-12-29T16:18:44.911100",
     "exception": false,
     "start_time": "2023-12-29T16:18:44.890787",
     "status": "completed"
    },
    "tags": []
   },
   "outputs": [],
   "source": [
    "df[['gpu_make', 'gpu_model']] = df['gpu'].str.split(\" \", n=1, expand=True)\n",
    "df = df.drop('gpu', axis=1)"
   ]
  },
  {
   "cell_type": "code",
   "execution_count": 14,
   "id": "84bae8f0",
   "metadata": {
    "execution": {
     "iopub.execute_input": "2023-12-29T16:18:44.926424Z",
     "iopub.status.busy": "2023-12-29T16:18:44.926043Z",
     "iopub.status.idle": "2023-12-29T16:18:44.933090Z",
     "shell.execute_reply": "2023-12-29T16:18:44.932009Z"
    },
    "papermill": {
     "duration": 0.017824,
     "end_time": "2023-12-29T16:18:44.935724",
     "exception": false,
     "start_time": "2023-12-29T16:18:44.917900",
     "status": "completed"
    },
    "tags": []
   },
   "outputs": [
    {
     "data": {
      "text/plain": [
       "cpu\n",
       "Intel Xeon E3-1505M               114\n",
       "Intel Atom x5-Z8550               111\n",
       "Intel Core i5                     105\n",
       "Intel Pentium Quad Core N4200     101\n",
       "Intel Celeron Dual Core 3855U      98\n",
       "Intel Core i7                      96\n",
       "Intel Core i9                      95\n",
       "AMD Ryzen 5                        94\n",
       "AMD Ryzen 7                        94\n",
       "AMD A9-Series 9420                 92\n",
       "Name: count, dtype: int64"
      ]
     },
     "execution_count": 14,
     "metadata": {},
     "output_type": "execute_result"
    }
   ],
   "source": [
    "# TODO: parse CPU data\n",
    "df['cpu'].value_counts()"
   ]
  },
  {
   "cell_type": "code",
   "execution_count": 15,
   "id": "7e1e71d9",
   "metadata": {
    "execution": {
     "iopub.execute_input": "2023-12-29T16:18:44.951082Z",
     "iopub.status.busy": "2023-12-29T16:18:44.950714Z",
     "iopub.status.idle": "2023-12-29T16:18:44.968507Z",
     "shell.execute_reply": "2023-12-29T16:18:44.967428Z"
    },
    "papermill": {
     "duration": 0.028192,
     "end_time": "2023-12-29T16:18:44.970725",
     "exception": false,
     "start_time": "2023-12-29T16:18:44.942533",
     "status": "completed"
    },
    "tags": []
   },
   "outputs": [
    {
     "data": {
      "text/html": [
       "<div>\n",
       "<style scoped>\n",
       "    .dataframe tbody tr th:only-of-type {\n",
       "        vertical-align: middle;\n",
       "    }\n",
       "\n",
       "    .dataframe tbody tr th {\n",
       "        vertical-align: top;\n",
       "    }\n",
       "\n",
       "    .dataframe thead th {\n",
       "        text-align: right;\n",
       "    }\n",
       "</style>\n",
       "<table border=\"1\" class=\"dataframe\">\n",
       "  <thead>\n",
       "    <tr style=\"text-align: right;\">\n",
       "      <th></th>\n",
       "      <th>companyname</th>\n",
       "      <th>typeoflaptop</th>\n",
       "      <th>inches</th>\n",
       "      <th>screenresolution</th>\n",
       "      <th>cpu</th>\n",
       "      <th>opsys</th>\n",
       "      <th>weight</th>\n",
       "      <th>price</th>\n",
       "      <th>ram_gb</th>\n",
       "      <th>storage_gb</th>\n",
       "      <th>storage_type</th>\n",
       "      <th>storage_controller</th>\n",
       "      <th>gpu_make</th>\n",
       "      <th>gpu_model</th>\n",
       "    </tr>\n",
       "  </thead>\n",
       "  <tbody>\n",
       "    <tr>\n",
       "      <th>0</th>\n",
       "      <td>MSI</td>\n",
       "      <td>Business Laptop</td>\n",
       "      <td>17.040680</td>\n",
       "      <td>IPS Panel Retina Display 2560x1600</td>\n",
       "      <td>Intel Core i7</td>\n",
       "      <td>Linux</td>\n",
       "      <td>2.064834</td>\n",
       "      <td>35844.099371</td>\n",
       "      <td>12</td>\n",
       "      <td>512</td>\n",
       "      <td>SSD</td>\n",
       "      <td>NaN</td>\n",
       "      <td>Intel</td>\n",
       "      <td>Iris Xe Graphics</td>\n",
       "    </tr>\n",
       "    <tr>\n",
       "      <th>1</th>\n",
       "      <td>Chuwi</td>\n",
       "      <td>2 in 1 Convertible</td>\n",
       "      <td>16.542395</td>\n",
       "      <td>Full HD</td>\n",
       "      <td>Intel Core i5</td>\n",
       "      <td>No OS</td>\n",
       "      <td>4.060656</td>\n",
       "      <td>37019.059051</td>\n",
       "      <td>12</td>\n",
       "      <td>128</td>\n",
       "      <td>SSD</td>\n",
       "      <td>PCIe</td>\n",
       "      <td>Intel</td>\n",
       "      <td>Iris Xe Graphics</td>\n",
       "    </tr>\n",
       "    <tr>\n",
       "      <th>2</th>\n",
       "      <td>hp</td>\n",
       "      <td>WorkStation</td>\n",
       "      <td>17.295294</td>\n",
       "      <td>Full HD</td>\n",
       "      <td>Intel Xeon E3-1505M</td>\n",
       "      <td>Linux</td>\n",
       "      <td>2.901689</td>\n",
       "      <td>33329.360341</td>\n",
       "      <td>8</td>\n",
       "      <td>1000</td>\n",
       "      <td>HDD</td>\n",
       "      <td>NaN</td>\n",
       "      <td>Intel</td>\n",
       "      <td>Iris Xe Graphics</td>\n",
       "    </tr>\n",
       "    <tr>\n",
       "      <th>3</th>\n",
       "      <td>MSI</td>\n",
       "      <td>2 in 1 Convertible</td>\n",
       "      <td>11.526203</td>\n",
       "      <td>2K</td>\n",
       "      <td>Intel Core i7</td>\n",
       "      <td>Windows 10</td>\n",
       "      <td>2.914843</td>\n",
       "      <td>68631.102486</td>\n",
       "      <td>16</td>\n",
       "      <td>512</td>\n",
       "      <td>SSD</td>\n",
       "      <td>NVMe</td>\n",
       "      <td>Intel</td>\n",
       "      <td>Iris Xe Graphics</td>\n",
       "    </tr>\n",
       "    <tr>\n",
       "      <th>4</th>\n",
       "      <td>Microsoft</td>\n",
       "      <td>Gaming</td>\n",
       "      <td>12.649634</td>\n",
       "      <td>Full HD</td>\n",
       "      <td>Intel Core i5</td>\n",
       "      <td>Windows 10</td>\n",
       "      <td>4.341995</td>\n",
       "      <td>33842.479566</td>\n",
       "      <td>8</td>\n",
       "      <td>512</td>\n",
       "      <td>SSD</td>\n",
       "      <td>NaN</td>\n",
       "      <td>AMD</td>\n",
       "      <td>Radeon RX 5600M</td>\n",
       "    </tr>\n",
       "  </tbody>\n",
       "</table>\n",
       "</div>"
      ],
      "text/plain": [
       "  companyname        typeoflaptop     inches  \\\n",
       "0         MSI     Business Laptop  17.040680   \n",
       "1       Chuwi  2 in 1 Convertible  16.542395   \n",
       "2          hp         WorkStation  17.295294   \n",
       "3         MSI  2 in 1 Convertible  11.526203   \n",
       "4   Microsoft              Gaming  12.649634   \n",
       "\n",
       "                     screenresolution                   cpu       opsys  \\\n",
       "0  IPS Panel Retina Display 2560x1600         Intel Core i7       Linux   \n",
       "1                             Full HD         Intel Core i5       No OS   \n",
       "2                             Full HD  Intel Xeon E3-1505M        Linux   \n",
       "3                                  2K         Intel Core i7  Windows 10   \n",
       "4                             Full HD         Intel Core i5  Windows 10   \n",
       "\n",
       "     weight         price  ram_gb  storage_gb storage_type storage_controller  \\\n",
       "0  2.064834  35844.099371      12         512          SSD                NaN   \n",
       "1  4.060656  37019.059051      12         128          SSD               PCIe   \n",
       "2  2.901689  33329.360341       8        1000          HDD                NaN   \n",
       "3  2.914843  68631.102486      16         512          SSD               NVMe   \n",
       "4  4.341995  33842.479566       8         512          SSD                NaN   \n",
       "\n",
       "  gpu_make         gpu_model  \n",
       "0    Intel  Iris Xe Graphics  \n",
       "1    Intel  Iris Xe Graphics  \n",
       "2    Intel  Iris Xe Graphics  \n",
       "3    Intel  Iris Xe Graphics  \n",
       "4      AMD   Radeon RX 5600M  "
      ]
     },
     "execution_count": 15,
     "metadata": {},
     "output_type": "execute_result"
    }
   ],
   "source": [
    "df.head()"
   ]
  },
  {
   "cell_type": "code",
   "execution_count": 16,
   "id": "cc7fb580",
   "metadata": {
    "execution": {
     "iopub.execute_input": "2023-12-29T16:18:44.986877Z",
     "iopub.status.busy": "2023-12-29T16:18:44.986182Z",
     "iopub.status.idle": "2023-12-29T16:18:44.994434Z",
     "shell.execute_reply": "2023-12-29T16:18:44.993393Z"
    },
    "papermill": {
     "duration": 0.018777,
     "end_time": "2023-12-29T16:18:44.996605",
     "exception": false,
     "start_time": "2023-12-29T16:18:44.977828",
     "status": "completed"
    },
    "tags": []
   },
   "outputs": [
    {
     "data": {
      "text/plain": [
       "0            IPS Panel Retina Display 2560x1600\n",
       "1                                       Full HD\n",
       "3                                            2K\n",
       "5                                 HD 1920x1080 \n",
       "7     IPS Panel Full HD / Touchscreen 1920x1080\n",
       "16                                           4K\n",
       "Name: screenresolution, dtype: object"
      ]
     },
     "execution_count": 16,
     "metadata": {},
     "output_type": "execute_result"
    }
   ],
   "source": [
    "df['screenresolution'].drop_duplicates()"
   ]
  },
  {
   "cell_type": "markdown",
   "id": "bd650c62",
   "metadata": {
    "papermill": {
     "duration": 0.006983,
     "end_time": "2023-12-29T16:18:45.010879",
     "exception": false,
     "start_time": "2023-12-29T16:18:45.003896",
     "status": "completed"
    },
    "tags": []
   },
   "source": [
    "# resolution notes\n",
    "- 2K = 2048×1080\n",
    "- Full HD = 1920x1080\n",
    "- 4K = 4096×2160"
   ]
  },
  {
   "cell_type": "code",
   "execution_count": 17,
   "id": "9d97190e",
   "metadata": {
    "execution": {
     "iopub.execute_input": "2023-12-29T16:18:45.026995Z",
     "iopub.status.busy": "2023-12-29T16:18:45.026637Z",
     "iopub.status.idle": "2023-12-29T16:18:45.046212Z",
     "shell.execute_reply": "2023-12-29T16:18:45.045328Z"
    },
    "papermill": {
     "duration": 0.030513,
     "end_time": "2023-12-29T16:18:45.048474",
     "exception": false,
     "start_time": "2023-12-29T16:18:45.017961",
     "status": "completed"
    },
    "tags": []
   },
   "outputs": [],
   "source": [
    "# create resolution dictionary for mapping values to columns\n",
    "hd_resolution = {\n",
    "    'IPS Panel Retina Display 2560x1600': [2560, 1600],\n",
    "    'Full HD': [1920, 1080],\n",
    "    '2K': [2048, 1080],\n",
    "    'HD 1920x1080 ': [1920, 1080],\n",
    "    'IPS Panel Full HD / Touchscreen 1920x1080': [1920, 1080],\n",
    "    '4K': [4096, 2160]\n",
    "}\n",
    "\n",
    "# map values to new columns\n",
    "df['screen_resolution'] = df['screenresolution'].map(hd_resolution)\n",
    "df[['h_screen_resolution', 'v_screen_resolution']] = list(df['screen_resolution'])\n",
    "\n",
    "# add in IPS info\n",
    "ips_true_false = {\n",
    "    'IPS Panel Retina Display 2560x1600': True,\n",
    "    'Full HD': False,\n",
    "    '2K': False,\n",
    "    'HD 1920x1080 ': False,\n",
    "    'IPS Panel Full HD / Touchscreen 1920x1080': True,\n",
    "    '4K': False\n",
    "}\n",
    "df['ips'] = df['screenresolution'].map(ips_true_false)\n",
    "\n",
    "# add in touchscreen info\n",
    "touchscreen_true_false = {\n",
    "    'IPS Panel Retina Display 2560x1600': False,\n",
    "    'Full HD': False,\n",
    "    '2K': False,\n",
    "    'HD 1920x1080 ': False,\n",
    "    'IPS Panel Full HD / Touchscreen 1920x1080': True,\n",
    "    '4K': False\n",
    "}\n",
    "df['touchscreen'] = df['screenresolution'].map(touchscreen_true_false)\n",
    "\n",
    "# drop columns\n",
    "df = df.drop(['screen_resolution'], axis=1)\n",
    "df = df.drop(['screenresolution'], axis=1)"
   ]
  },
  {
   "cell_type": "code",
   "execution_count": 18,
   "id": "8736790b",
   "metadata": {
    "execution": {
     "iopub.execute_input": "2023-12-29T16:18:45.065052Z",
     "iopub.status.busy": "2023-12-29T16:18:45.064640Z",
     "iopub.status.idle": "2023-12-29T16:18:45.072694Z",
     "shell.execute_reply": "2023-12-29T16:18:45.071647Z"
    },
    "papermill": {
     "duration": 0.01927,
     "end_time": "2023-12-29T16:18:45.074986",
     "exception": false,
     "start_time": "2023-12-29T16:18:45.055716",
     "status": "completed"
    },
    "tags": []
   },
   "outputs": [
    {
     "data": {
      "text/plain": [
       "0           MSI\n",
       "1         Chuwi\n",
       "2            hp\n",
       "4     Microsoft\n",
       "5         Apple\n",
       "6        lenevo\n",
       "7          Asus\n",
       "12         Acer\n",
       "20         Dell\n",
       "Name: companyname, dtype: object"
      ]
     },
     "execution_count": 18,
     "metadata": {},
     "output_type": "execute_result"
    }
   ],
   "source": [
    "# Find out how many CompanyName/TypOfLaptop unique values there are\n",
    "df['companyname'].drop_duplicates()"
   ]
  },
  {
   "cell_type": "code",
   "execution_count": 19,
   "id": "eb85dbd9",
   "metadata": {
    "execution": {
     "iopub.execute_input": "2023-12-29T16:18:45.091464Z",
     "iopub.status.busy": "2023-12-29T16:18:45.091059Z",
     "iopub.status.idle": "2023-12-29T16:18:45.099004Z",
     "shell.execute_reply": "2023-12-29T16:18:45.097946Z"
    },
    "papermill": {
     "duration": 0.018943,
     "end_time": "2023-12-29T16:18:45.101262",
     "exception": false,
     "start_time": "2023-12-29T16:18:45.082319",
     "status": "completed"
    },
    "tags": []
   },
   "outputs": [
    {
     "data": {
      "text/plain": [
       "0       Business Laptop\n",
       "1    2 in 1 Convertible\n",
       "2           WorkStation\n",
       "4                Gaming\n",
       "6              NoteBook\n",
       "7             UltraBook\n",
       "Name: typeoflaptop, dtype: object"
      ]
     },
     "execution_count": 19,
     "metadata": {},
     "output_type": "execute_result"
    }
   ],
   "source": [
    "df['typeoflaptop'].drop_duplicates()"
   ]
  },
  {
   "cell_type": "code",
   "execution_count": null,
   "id": "63fa2fa4",
   "metadata": {
    "papermill": {
     "duration": 0.00718,
     "end_time": "2023-12-29T16:18:45.115858",
     "exception": false,
     "start_time": "2023-12-29T16:18:45.108678",
     "status": "completed"
    },
    "tags": []
   },
   "outputs": [],
   "source": []
  }
 ],
 "metadata": {
  "kaggle": {
   "accelerator": "none",
   "dataSources": [
    {
     "datasetId": 4151218,
     "sourceId": 7181846,
     "sourceType": "datasetVersion"
    }
   ],
   "dockerImageVersionId": 30626,
   "isGpuEnabled": false,
   "isInternetEnabled": true,
   "language": "python",
   "sourceType": "notebook"
  },
  "kernelspec": {
   "display_name": "Python 3",
   "language": "python",
   "name": "python3"
  },
  "language_info": {
   "codemirror_mode": {
    "name": "ipython",
    "version": 3
   },
   "file_extension": ".py",
   "mimetype": "text/x-python",
   "name": "python",
   "nbconvert_exporter": "python",
   "pygments_lexer": "ipython3",
   "version": "3.10.12"
  },
  "papermill": {
   "default_parameters": {},
   "duration": 4.621157,
   "end_time": "2023-12-29T16:18:45.644088",
   "environment_variables": {},
   "exception": null,
   "input_path": "__notebook__.ipynb",
   "output_path": "__notebook__.ipynb",
   "parameters": {},
   "start_time": "2023-12-29T16:18:41.022931",
   "version": "2.4.0"
  }
 },
 "nbformat": 4,
 "nbformat_minor": 5
}
