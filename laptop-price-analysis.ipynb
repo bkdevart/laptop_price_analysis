{
 "cells": [
  {
   "cell_type": "code",
   "execution_count": 1,
   "id": "b32d2a88",
   "metadata": {
    "_cell_guid": "b1076dfc-b9ad-4769-8c92-a6c4dae69d19",
    "_uuid": "8f2839f25d086af736a60e9eeb907d3b93b6e0e5",
    "execution": {
     "iopub.execute_input": "2023-12-28T18:35:20.450853Z",
     "iopub.status.busy": "2023-12-28T18:35:20.450404Z",
     "iopub.status.idle": "2023-12-28T18:35:20.909571Z",
     "shell.execute_reply": "2023-12-28T18:35:20.908564Z"
    },
    "papermill": {
     "duration": 0.468721,
     "end_time": "2023-12-28T18:35:20.912347",
     "exception": false,
     "start_time": "2023-12-28T18:35:20.443626",
     "status": "completed"
    },
    "tags": []
   },
   "outputs": [
    {
     "name": "stdout",
     "output_type": "stream",
     "text": [
      "/kaggle/input/laptop-price-explorer-the-ml-model/laptops.csv\n"
     ]
    }
   ],
   "source": [
    "# This Python 3 environment comes with many helpful analytics libraries installed\n",
    "# It is defined by the kaggle/python Docker image: https://github.com/kaggle/docker-python\n",
    "# For example, here's several helpful packages to load\n",
    "\n",
    "import numpy as np # linear algebra\n",
    "import pandas as pd # data processing, CSV file I/O (e.g. pd.read_csv)\n",
    "\n",
    "# Input data files are available in the read-only \"../input/\" directory\n",
    "# For example, running this (by clicking run or pressing Shift+Enter) will list all files under the input directory\n",
    "\n",
    "import os\n",
    "for dirname, _, filenames in os.walk('/kaggle/input'):\n",
    "    for filename in filenames:\n",
    "        print(os.path.join(dirname, filename))\n",
    "\n",
    "# You can write up to 20GB to the current directory (/kaggle/working/) that gets preserved as output when you create a version using \"Save & Run All\" \n",
    "# You can also write temporary files to /kaggle/temp/, but they won't be saved outside of the current session"
   ]
  },
  {
   "cell_type": "code",
   "execution_count": 2,
   "id": "5e7c06d2",
   "metadata": {
    "execution": {
     "iopub.execute_input": "2023-12-28T18:35:20.924972Z",
     "iopub.status.busy": "2023-12-28T18:35:20.924134Z",
     "iopub.status.idle": "2023-12-28T18:35:20.990033Z",
     "shell.execute_reply": "2023-12-28T18:35:20.988811Z"
    },
    "papermill": {
     "duration": 0.074993,
     "end_time": "2023-12-28T18:35:20.992661",
     "exception": false,
     "start_time": "2023-12-28T18:35:20.917668",
     "status": "completed"
    },
    "tags": []
   },
   "outputs": [
    {
     "data": {
      "text/html": [
       "<div>\n",
       "<style scoped>\n",
       "    .dataframe tbody tr th:only-of-type {\n",
       "        vertical-align: middle;\n",
       "    }\n",
       "\n",
       "    .dataframe tbody tr th {\n",
       "        vertical-align: top;\n",
       "    }\n",
       "\n",
       "    .dataframe thead th {\n",
       "        text-align: right;\n",
       "    }\n",
       "</style>\n",
       "<table border=\"1\" class=\"dataframe\">\n",
       "  <thead>\n",
       "    <tr style=\"text-align: right;\">\n",
       "      <th></th>\n",
       "      <th>companyname</th>\n",
       "      <th>typeoflaptop</th>\n",
       "      <th>inches</th>\n",
       "      <th>screenresolution</th>\n",
       "      <th>cpu</th>\n",
       "      <th>ram</th>\n",
       "      <th>memory</th>\n",
       "      <th>gpu</th>\n",
       "      <th>opsys</th>\n",
       "      <th>weight</th>\n",
       "      <th>price</th>\n",
       "    </tr>\n",
       "  </thead>\n",
       "  <tbody>\n",
       "    <tr>\n",
       "      <th>0</th>\n",
       "      <td>MSI</td>\n",
       "      <td>Business Laptop</td>\n",
       "      <td>17.040680</td>\n",
       "      <td>IPS Panel Retina Display 2560x1600</td>\n",
       "      <td>Intel Core i7</td>\n",
       "      <td>12GB</td>\n",
       "      <td>512GB SSD</td>\n",
       "      <td>Intel Iris Xe Graphics</td>\n",
       "      <td>Linux</td>\n",
       "      <td>2.064834</td>\n",
       "      <td>35844.099371</td>\n",
       "    </tr>\n",
       "    <tr>\n",
       "      <th>1</th>\n",
       "      <td>Chuwi</td>\n",
       "      <td>2 in 1 Convertible</td>\n",
       "      <td>16.542395</td>\n",
       "      <td>Full HD</td>\n",
       "      <td>Intel Core i5</td>\n",
       "      <td>12GB</td>\n",
       "      <td>128GB PCIe SSD</td>\n",
       "      <td>Intel Iris Xe Graphics</td>\n",
       "      <td>No OS</td>\n",
       "      <td>4.060656</td>\n",
       "      <td>37019.059051</td>\n",
       "    </tr>\n",
       "    <tr>\n",
       "      <th>2</th>\n",
       "      <td>hp</td>\n",
       "      <td>WorkStation</td>\n",
       "      <td>17.295294</td>\n",
       "      <td>Full HD</td>\n",
       "      <td>Intel Xeon E3-1505M</td>\n",
       "      <td>8GB</td>\n",
       "      <td>1TB HDD</td>\n",
       "      <td>Intel Iris Xe Graphics</td>\n",
       "      <td>Linux</td>\n",
       "      <td>2.901689</td>\n",
       "      <td>33329.360341</td>\n",
       "    </tr>\n",
       "    <tr>\n",
       "      <th>3</th>\n",
       "      <td>MSI</td>\n",
       "      <td>2 in 1 Convertible</td>\n",
       "      <td>11.526203</td>\n",
       "      <td>2K</td>\n",
       "      <td>Intel Core i7</td>\n",
       "      <td>16GB</td>\n",
       "      <td>512GB NVMe SSD</td>\n",
       "      <td>Intel Iris Xe Graphics</td>\n",
       "      <td>Windows 10</td>\n",
       "      <td>2.914843</td>\n",
       "      <td>68631.102486</td>\n",
       "    </tr>\n",
       "    <tr>\n",
       "      <th>4</th>\n",
       "      <td>Microsoft</td>\n",
       "      <td>Gaming</td>\n",
       "      <td>12.649634</td>\n",
       "      <td>Full HD</td>\n",
       "      <td>Intel Core i5</td>\n",
       "      <td>8GB</td>\n",
       "      <td>512GB SSD</td>\n",
       "      <td>AMD Radeon RX 5600M</td>\n",
       "      <td>Windows 10</td>\n",
       "      <td>4.341995</td>\n",
       "      <td>33842.479566</td>\n",
       "    </tr>\n",
       "  </tbody>\n",
       "</table>\n",
       "</div>"
      ],
      "text/plain": [
       "  companyname        typeoflaptop     inches  \\\n",
       "0         MSI     Business Laptop  17.040680   \n",
       "1       Chuwi  2 in 1 Convertible  16.542395   \n",
       "2          hp         WorkStation  17.295294   \n",
       "3         MSI  2 in 1 Convertible  11.526203   \n",
       "4   Microsoft              Gaming  12.649634   \n",
       "\n",
       "                     screenresolution                   cpu   ram  \\\n",
       "0  IPS Panel Retina Display 2560x1600         Intel Core i7  12GB   \n",
       "1                             Full HD         Intel Core i5  12GB   \n",
       "2                             Full HD  Intel Xeon E3-1505M    8GB   \n",
       "3                                  2K         Intel Core i7  16GB   \n",
       "4                             Full HD         Intel Core i5   8GB   \n",
       "\n",
       "           memory                     gpu       opsys    weight         price  \n",
       "0       512GB SSD  Intel Iris Xe Graphics       Linux  2.064834  35844.099371  \n",
       "1  128GB PCIe SSD  Intel Iris Xe Graphics       No OS  4.060656  37019.059051  \n",
       "2         1TB HDD  Intel Iris Xe Graphics       Linux  2.901689  33329.360341  \n",
       "3  512GB NVMe SSD  Intel Iris Xe Graphics  Windows 10  2.914843  68631.102486  \n",
       "4       512GB SSD     AMD Radeon RX 5600M  Windows 10  4.341995  33842.479566  "
      ]
     },
     "execution_count": 2,
     "metadata": {},
     "output_type": "execute_result"
    }
   ],
   "source": [
    "df = pd.read_csv('/kaggle/input/laptop-price-explorer-the-ml-model/laptops.csv')\n",
    "# lowercase col names\n",
    "df.columns = [col.lower() for col in df.columns]\n",
    "df.head()"
   ]
  },
  {
   "cell_type": "code",
   "execution_count": 3,
   "id": "a67e4764",
   "metadata": {
    "execution": {
     "iopub.execute_input": "2023-12-28T18:35:21.004750Z",
     "iopub.status.busy": "2023-12-28T18:35:21.004311Z",
     "iopub.status.idle": "2023-12-28T18:35:21.039456Z",
     "shell.execute_reply": "2023-12-28T18:35:21.037715Z"
    },
    "papermill": {
     "duration": 0.044369,
     "end_time": "2023-12-28T18:35:21.042301",
     "exception": false,
     "start_time": "2023-12-28T18:35:20.997932",
     "status": "completed"
    },
    "tags": []
   },
   "outputs": [
    {
     "name": "stdout",
     "output_type": "stream",
     "text": [
      "<class 'pandas.core.frame.DataFrame'>\n",
      "RangeIndex: 1000 entries, 0 to 999\n",
      "Data columns (total 11 columns):\n",
      " #   Column            Non-Null Count  Dtype  \n",
      "---  ------            --------------  -----  \n",
      " 0   companyname       1000 non-null   object \n",
      " 1   typeoflaptop      1000 non-null   object \n",
      " 2   inches            1000 non-null   float64\n",
      " 3   screenresolution  1000 non-null   object \n",
      " 4   cpu               1000 non-null   object \n",
      " 5   ram               1000 non-null   object \n",
      " 6   memory            1000 non-null   object \n",
      " 7   gpu               1000 non-null   object \n",
      " 8   opsys             1000 non-null   object \n",
      " 9   weight            1000 non-null   float64\n",
      " 10  price             1000 non-null   float64\n",
      "dtypes: float64(3), object(8)\n",
      "memory usage: 86.1+ KB\n"
     ]
    }
   ],
   "source": [
    "df.info()"
   ]
  },
  {
   "cell_type": "markdown",
   "id": "1ad1df68",
   "metadata": {
    "papermill": {
     "duration": 0.004887,
     "end_time": "2023-12-28T18:35:21.052466",
     "exception": false,
     "start_time": "2023-12-28T18:35:21.047579",
     "status": "completed"
    },
    "tags": []
   },
   "source": [
    "# Initial data notes\n",
    "## Column changes\n",
    "- ~Change ram column name to include GB and make numerical~\n",
    "- Break apart memory into:\n",
    "    - numerical size (some are GB, some TB)\n",
    "    - SSD/HDD\n",
    "    - (optional) additional info - PCIe, NVMe, etc\n",
    "- GPU/CPU columns\n",
    "    - Extract make, model into separate columns\n",
    "- Screen resolution\n",
    "    - try to convert to pixel height/width columns or combined resolution if few variations\n",
    "- Find out how many CompanyName/TypOfLaptop unique values there are"
   ]
  },
  {
   "cell_type": "code",
   "execution_count": 4,
   "id": "5dd9f006",
   "metadata": {
    "execution": {
     "iopub.execute_input": "2023-12-28T18:35:21.065438Z",
     "iopub.status.busy": "2023-12-28T18:35:21.064954Z",
     "iopub.status.idle": "2023-12-28T18:35:21.074264Z",
     "shell.execute_reply": "2023-12-28T18:35:21.073424Z"
    },
    "papermill": {
     "duration": 0.018564,
     "end_time": "2023-12-28T18:35:21.076601",
     "exception": false,
     "start_time": "2023-12-28T18:35:21.058037",
     "status": "completed"
    },
    "tags": []
   },
   "outputs": [
    {
     "data": {
      "text/plain": [
       "0     12GB\n",
       "2      8GB\n",
       "3     16GB\n",
       "11     4GB\n",
       "Name: ram, dtype: object"
      ]
     },
     "execution_count": 4,
     "metadata": {},
     "output_type": "execute_result"
    }
   ],
   "source": [
    "# break apart memory column\n",
    "df['ram'].drop_duplicates()"
   ]
  },
  {
   "cell_type": "code",
   "execution_count": 5,
   "id": "03190ca6",
   "metadata": {
    "execution": {
     "iopub.execute_input": "2023-12-28T18:35:21.089804Z",
     "iopub.status.busy": "2023-12-28T18:35:21.088723Z",
     "iopub.status.idle": "2023-12-28T18:35:21.108438Z",
     "shell.execute_reply": "2023-12-28T18:35:21.107295Z"
    },
    "papermill": {
     "duration": 0.029299,
     "end_time": "2023-12-28T18:35:21.111193",
     "exception": false,
     "start_time": "2023-12-28T18:35:21.081894",
     "status": "completed"
    },
    "tags": []
   },
   "outputs": [
    {
     "data": {
      "text/plain": [
       "0     12\n",
       "2      8\n",
       "3     16\n",
       "11     4\n",
       "Name: ram_gb, dtype: int64"
      ]
     },
     "execution_count": 5,
     "metadata": {},
     "output_type": "execute_result"
    }
   ],
   "source": [
    "df['ram_gb'] = df['ram'].str.extract('(\\d+)').astype(int)\n",
    "df = df.drop('ram', axis=1)\n",
    "df['ram_gb'].drop_duplicates()"
   ]
  },
  {
   "cell_type": "code",
   "execution_count": 6,
   "id": "11906225",
   "metadata": {
    "execution": {
     "iopub.execute_input": "2023-12-28T18:35:21.124359Z",
     "iopub.status.busy": "2023-12-28T18:35:21.123907Z",
     "iopub.status.idle": "2023-12-28T18:35:21.139956Z",
     "shell.execute_reply": "2023-12-28T18:35:21.138796Z"
    },
    "papermill": {
     "duration": 0.025644,
     "end_time": "2023-12-28T18:35:21.142532",
     "exception": false,
     "start_time": "2023-12-28T18:35:21.116888",
     "status": "completed"
    },
    "tags": []
   },
   "outputs": [
    {
     "data": {
      "text/plain": [
       "0         512GB SSD\n",
       "1    128GB PCIe SSD\n",
       "2           1TB HDD\n",
       "3    512GB NVMe SSD\n",
       "4         512GB SSD\n",
       "Name: memory, dtype: object"
      ]
     },
     "execution_count": 6,
     "metadata": {},
     "output_type": "execute_result"
    }
   ],
   "source": [
    "# TODO: break apart memory into numerical size - 1st extract numerical, 2nd if numerical 1, calculate GB\n",
    "df['storage_gb'] = df['memory'].str.extract('(\\d+)').astype(int)\n",
    "df.loc[df['storage_gb'] == 1, 'storage_gb'] = 1000\n",
    "df['memory'].head()"
   ]
  },
  {
   "cell_type": "code",
   "execution_count": 7,
   "id": "2b8b7122",
   "metadata": {
    "execution": {
     "iopub.execute_input": "2023-12-28T18:35:21.156326Z",
     "iopub.status.busy": "2023-12-28T18:35:21.155665Z",
     "iopub.status.idle": "2023-12-28T18:35:21.163271Z",
     "shell.execute_reply": "2023-12-28T18:35:21.162117Z"
    },
    "papermill": {
     "duration": 0.017332,
     "end_time": "2023-12-28T18:35:21.165629",
     "exception": false,
     "start_time": "2023-12-28T18:35:21.148297",
     "status": "completed"
    },
    "tags": []
   },
   "outputs": [
    {
     "data": {
      "text/plain": [
       "0     512\n",
       "1     128\n",
       "2    1000\n",
       "3     512\n",
       "4     512\n",
       "Name: storage_gb, dtype: int64"
      ]
     },
     "execution_count": 7,
     "metadata": {},
     "output_type": "execute_result"
    }
   ],
   "source": [
    "df['storage_gb'].head()"
   ]
  },
  {
   "cell_type": "code",
   "execution_count": 8,
   "id": "77c77aa6",
   "metadata": {
    "execution": {
     "iopub.execute_input": "2023-12-28T18:35:21.179975Z",
     "iopub.status.busy": "2023-12-28T18:35:21.178926Z",
     "iopub.status.idle": "2023-12-28T18:35:21.184893Z",
     "shell.execute_reply": "2023-12-28T18:35:21.183758Z"
    },
    "papermill": {
     "duration": 0.016144,
     "end_time": "2023-12-28T18:35:21.187705",
     "exception": false,
     "start_time": "2023-12-28T18:35:21.171561",
     "status": "completed"
    },
    "tags": []
   },
   "outputs": [],
   "source": [
    "# TODO: take last 3 digits and put into hdd_type col\n"
   ]
  },
  {
   "cell_type": "code",
   "execution_count": 9,
   "id": "43fadaee",
   "metadata": {
    "execution": {
     "iopub.execute_input": "2023-12-28T18:35:21.201496Z",
     "iopub.status.busy": "2023-12-28T18:35:21.201106Z",
     "iopub.status.idle": "2023-12-28T18:35:21.220542Z",
     "shell.execute_reply": "2023-12-28T18:35:21.219549Z"
    },
    "papermill": {
     "duration": 0.029246,
     "end_time": "2023-12-28T18:35:21.222953",
     "exception": false,
     "start_time": "2023-12-28T18:35:21.193707",
     "status": "completed"
    },
    "tags": []
   },
   "outputs": [
    {
     "data": {
      "text/html": [
       "<div>\n",
       "<style scoped>\n",
       "    .dataframe tbody tr th:only-of-type {\n",
       "        vertical-align: middle;\n",
       "    }\n",
       "\n",
       "    .dataframe tbody tr th {\n",
       "        vertical-align: top;\n",
       "    }\n",
       "\n",
       "    .dataframe thead th {\n",
       "        text-align: right;\n",
       "    }\n",
       "</style>\n",
       "<table border=\"1\" class=\"dataframe\">\n",
       "  <thead>\n",
       "    <tr style=\"text-align: right;\">\n",
       "      <th></th>\n",
       "      <th>companyname</th>\n",
       "      <th>typeoflaptop</th>\n",
       "      <th>inches</th>\n",
       "      <th>screenresolution</th>\n",
       "      <th>cpu</th>\n",
       "      <th>memory</th>\n",
       "      <th>gpu</th>\n",
       "      <th>opsys</th>\n",
       "      <th>weight</th>\n",
       "      <th>price</th>\n",
       "      <th>ram_gb</th>\n",
       "      <th>storage_gb</th>\n",
       "    </tr>\n",
       "  </thead>\n",
       "  <tbody>\n",
       "    <tr>\n",
       "      <th>0</th>\n",
       "      <td>MSI</td>\n",
       "      <td>Business Laptop</td>\n",
       "      <td>17.040680</td>\n",
       "      <td>IPS Panel Retina Display 2560x1600</td>\n",
       "      <td>Intel Core i7</td>\n",
       "      <td>512GB SSD</td>\n",
       "      <td>Intel Iris Xe Graphics</td>\n",
       "      <td>Linux</td>\n",
       "      <td>2.064834</td>\n",
       "      <td>35844.099371</td>\n",
       "      <td>12</td>\n",
       "      <td>512</td>\n",
       "    </tr>\n",
       "    <tr>\n",
       "      <th>1</th>\n",
       "      <td>Chuwi</td>\n",
       "      <td>2 in 1 Convertible</td>\n",
       "      <td>16.542395</td>\n",
       "      <td>Full HD</td>\n",
       "      <td>Intel Core i5</td>\n",
       "      <td>128GB PCIe SSD</td>\n",
       "      <td>Intel Iris Xe Graphics</td>\n",
       "      <td>No OS</td>\n",
       "      <td>4.060656</td>\n",
       "      <td>37019.059051</td>\n",
       "      <td>12</td>\n",
       "      <td>128</td>\n",
       "    </tr>\n",
       "    <tr>\n",
       "      <th>2</th>\n",
       "      <td>hp</td>\n",
       "      <td>WorkStation</td>\n",
       "      <td>17.295294</td>\n",
       "      <td>Full HD</td>\n",
       "      <td>Intel Xeon E3-1505M</td>\n",
       "      <td>1TB HDD</td>\n",
       "      <td>Intel Iris Xe Graphics</td>\n",
       "      <td>Linux</td>\n",
       "      <td>2.901689</td>\n",
       "      <td>33329.360341</td>\n",
       "      <td>8</td>\n",
       "      <td>1000</td>\n",
       "    </tr>\n",
       "    <tr>\n",
       "      <th>3</th>\n",
       "      <td>MSI</td>\n",
       "      <td>2 in 1 Convertible</td>\n",
       "      <td>11.526203</td>\n",
       "      <td>2K</td>\n",
       "      <td>Intel Core i7</td>\n",
       "      <td>512GB NVMe SSD</td>\n",
       "      <td>Intel Iris Xe Graphics</td>\n",
       "      <td>Windows 10</td>\n",
       "      <td>2.914843</td>\n",
       "      <td>68631.102486</td>\n",
       "      <td>16</td>\n",
       "      <td>512</td>\n",
       "    </tr>\n",
       "    <tr>\n",
       "      <th>4</th>\n",
       "      <td>Microsoft</td>\n",
       "      <td>Gaming</td>\n",
       "      <td>12.649634</td>\n",
       "      <td>Full HD</td>\n",
       "      <td>Intel Core i5</td>\n",
       "      <td>512GB SSD</td>\n",
       "      <td>AMD Radeon RX 5600M</td>\n",
       "      <td>Windows 10</td>\n",
       "      <td>4.341995</td>\n",
       "      <td>33842.479566</td>\n",
       "      <td>8</td>\n",
       "      <td>512</td>\n",
       "    </tr>\n",
       "  </tbody>\n",
       "</table>\n",
       "</div>"
      ],
      "text/plain": [
       "  companyname        typeoflaptop     inches  \\\n",
       "0         MSI     Business Laptop  17.040680   \n",
       "1       Chuwi  2 in 1 Convertible  16.542395   \n",
       "2          hp         WorkStation  17.295294   \n",
       "3         MSI  2 in 1 Convertible  11.526203   \n",
       "4   Microsoft              Gaming  12.649634   \n",
       "\n",
       "                     screenresolution                   cpu          memory  \\\n",
       "0  IPS Panel Retina Display 2560x1600         Intel Core i7       512GB SSD   \n",
       "1                             Full HD         Intel Core i5  128GB PCIe SSD   \n",
       "2                             Full HD  Intel Xeon E3-1505M          1TB HDD   \n",
       "3                                  2K         Intel Core i7  512GB NVMe SSD   \n",
       "4                             Full HD         Intel Core i5       512GB SSD   \n",
       "\n",
       "                      gpu       opsys    weight         price  ram_gb  \\\n",
       "0  Intel Iris Xe Graphics       Linux  2.064834  35844.099371      12   \n",
       "1  Intel Iris Xe Graphics       No OS  4.060656  37019.059051      12   \n",
       "2  Intel Iris Xe Graphics       Linux  2.901689  33329.360341       8   \n",
       "3  Intel Iris Xe Graphics  Windows 10  2.914843  68631.102486      16   \n",
       "4     AMD Radeon RX 5600M  Windows 10  4.341995  33842.479566       8   \n",
       "\n",
       "   storage_gb  \n",
       "0         512  \n",
       "1         128  \n",
       "2        1000  \n",
       "3         512  \n",
       "4         512  "
      ]
     },
     "execution_count": 9,
     "metadata": {},
     "output_type": "execute_result"
    }
   ],
   "source": [
    "df.head()"
   ]
  },
  {
   "cell_type": "code",
   "execution_count": null,
   "id": "a2623f5d",
   "metadata": {
    "papermill": {
     "duration": 0.006014,
     "end_time": "2023-12-28T18:35:21.235236",
     "exception": false,
     "start_time": "2023-12-28T18:35:21.229222",
     "status": "completed"
    },
    "tags": []
   },
   "outputs": [],
   "source": []
  }
 ],
 "metadata": {
  "kaggle": {
   "accelerator": "none",
   "dataSources": [
    {
     "datasetId": 4151218,
     "sourceId": 7181846,
     "sourceType": "datasetVersion"
    }
   ],
   "dockerImageVersionId": 30626,
   "isGpuEnabled": false,
   "isInternetEnabled": true,
   "language": "python",
   "sourceType": "notebook"
  },
  "kernelspec": {
   "display_name": "Python 3",
   "language": "python",
   "name": "python3"
  },
  "language_info": {
   "codemirror_mode": {
    "name": "ipython",
    "version": 3
   },
   "file_extension": ".py",
   "mimetype": "text/x-python",
   "name": "python",
   "nbconvert_exporter": "python",
   "pygments_lexer": "ipython3",
   "version": "3.10.12"
  },
  "papermill": {
   "default_parameters": {},
   "duration": 4.955075,
   "end_time": "2023-12-28T18:35:21.763708",
   "environment_variables": {},
   "exception": null,
   "input_path": "__notebook__.ipynb",
   "output_path": "__notebook__.ipynb",
   "parameters": {},
   "start_time": "2023-12-28T18:35:16.808633",
   "version": "2.4.0"
  }
 },
 "nbformat": 4,
 "nbformat_minor": 5
}
